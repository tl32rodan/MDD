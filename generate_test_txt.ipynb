{
 "cells": [
  {
   "cell_type": "code",
   "execution_count": 1,
   "metadata": {},
   "outputs": [],
   "source": [
    "import os\n",
    "import pandas as pd\n",
    "import glob\n",
    "import numpy as np\n",
    "import shutil\n",
    "import random\n",
    "%config IPCompleter.use_jedi=False\n",
    "\n",
    "## Change directory \n",
    "os.chdir('./data/visda/')"
   ]
  },
  {
   "cell_type": "code",
   "execution_count": 21,
   "metadata": {},
   "outputs": [],
   "source": [
    "f = open('./source_test_list.txt', 'w')"
   ]
  },
  {
   "cell_type": "code",
   "execution_count": 22,
   "metadata": {},
   "outputs": [],
   "source": [
    "for i, _d in enumerate(sorted(os.listdir('./train/'))):\n",
    "    img_list = os.listdir('./train/'+_d)\n",
    "    chosen_imgs = random.sample(img_list, 1000)\n",
    "    for img in chosen_imgs:\n",
    "        f.write(os.path.join('train/', _d, img )+' '+str(i)+'\\n')"
   ]
  },
  {
   "cell_type": "code",
   "execution_count": 23,
   "metadata": {},
   "outputs": [],
   "source": [
    "f.close()"
   ]
  },
  {
   "cell_type": "code",
   "execution_count": 24,
   "metadata": {},
   "outputs": [],
   "source": [
    "f = open('./target_test_list.txt', 'w')\n",
    "for i, _d in enumerate(sorted(os.listdir('./validation/'))):\n",
    "    img_list = os.listdir('./validation/'+_d)\n",
    "    chosen_imgs = random.sample(img_list, 1000)\n",
    "    for img in chosen_imgs:\n",
    "        f.write(os.path.join('validation/', _d, img )+' '+str(i)+'\\n')\n",
    "f.close()"
   ]
  },
  {
   "cell_type": "code",
   "execution_count": null,
   "metadata": {},
   "outputs": [],
   "source": []
  },
  {
   "cell_type": "code",
   "execution_count": null,
   "metadata": {},
   "outputs": [],
   "source": []
  }
 ],
 "metadata": {
  "kernelspec": {
   "display_name": "Python 3",
   "language": "python",
   "name": "python3"
  },
  "language_info": {
   "codemirror_mode": {
    "name": "ipython",
    "version": 3
   },
   "file_extension": ".py",
   "mimetype": "text/x-python",
   "name": "python",
   "nbconvert_exporter": "python",
   "pygments_lexer": "ipython3",
   "version": "3.6.10"
  }
 },
 "nbformat": 4,
 "nbformat_minor": 4
}
